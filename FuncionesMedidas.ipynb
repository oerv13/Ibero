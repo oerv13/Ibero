{
  "nbformat": 4,
  "nbformat_minor": 0,
  "metadata": {
    "colab": {
      "provenance": [],
      "authorship_tag": "ABX9TyNoZ460aEMGk7696xpxZ+UX",
      "include_colab_link": true
    },
    "kernelspec": {
      "name": "python3",
      "display_name": "Python 3"
    },
    "language_info": {
      "name": "python"
    }
  },
  "cells": [
    {
      "cell_type": "markdown",
      "metadata": {
        "id": "view-in-github",
        "colab_type": "text"
      },
      "source": [
        "<a href=\"https://colab.research.google.com/github/oerv13/Ibero/blob/main/FuncionesMedidas.ipynb\" target=\"_parent\"><img src=\"https://colab.research.google.com/assets/colab-badge.svg\" alt=\"Open In Colab\"/></a>"
      ]
    },
    {
      "cell_type": "code",
      "execution_count": 2,
      "metadata": {
        "id": "B6-sDQbRXrBh"
      },
      "outputs": [],
      "source": [
        "# Calculo de la Media\n",
        "# Es el valor promedio de un conjunto de mediciones\n",
        "\n"
      ]
    },
    {
      "cell_type": "markdown",
      "source": [
        "$$ \\bar{x} = \\frac{1}{n} \\sum_{i=1}^{n} x_{i} $$"
      ],
      "metadata": {
        "id": "OsqysL8ka5f9"
      }
    },
    {
      "cell_type": "code",
      "source": [
        "def media(lista):\n",
        "  n = len(lista)\n",
        "  sigma = sum(lista)\n",
        "  return (1/n)*sigma"
      ],
      "metadata": {
        "id": "Wtgfyr7La2nx"
      },
      "execution_count": 9,
      "outputs": []
    },
    {
      "cell_type": "code",
      "source": [
        "lista_media = [1,2,3,4,5,6,7,8,9,10]\n",
        "lista_media\n",
        "media(lista_media)"
      ],
      "metadata": {
        "colab": {
          "base_uri": "https://localhost:8080/"
        },
        "id": "zTfi1WfaYTsH",
        "outputId": "179d97fa-ae79-45ca-a31d-2e34426c260f"
      },
      "execution_count": 7,
      "outputs": [
        {
          "output_type": "execute_result",
          "data": {
            "text/plain": [
              "5.5"
            ]
          },
          "metadata": {},
          "execution_count": 7
        }
      ]
    },
    {
      "cell_type": "code",
      "source": [
        "# Calculo de la Mediana\n",
        "# La mediana es el punto medio en un conjunto de datos, la mitad de los datos son menores que la mediana\n",
        "# y la mitad de los datos son más grandes.\n",
        "\n"
      ],
      "metadata": {
        "id": "2eojyd7mYRZw"
      },
      "execution_count": null,
      "outputs": []
    },
    {
      "cell_type": "markdown",
      "source": [
        "$$ \\bar{x} = \\sum{1}+{n} \\2 $$\n",
        "\n"
      ],
      "metadata": {
        "id": "9nJR8v-hYJ7v"
      }
    },
    {
      "cell_type": "code",
      "source": [
        "def mediana(lista_mediana):\n",
        "    lista_mediana.sort()\n",
        "    # Obtener longitud\n",
        "    longitud = len(lista_mediana)\n",
        "    # Mitad de la lista\n",
        "    mitad = int(longitud / 2)\n",
        "    # Si la longitud es par, promediar elementos centrales\n",
        "    if longitud % 2 == 0:\n",
        "        mediana = (lista_mediana[mitad - 1]+lista_mediana[mitad]) / 2\n",
        "    else:\n",
        "        # Si no, es la del centro\n",
        "        mediana = lista_mediana[mitad]\n",
        "    return mediana"
      ],
      "metadata": {
        "id": "rWAi0iBaYK98"
      },
      "execution_count": 12,
      "outputs": []
    },
    {
      "cell_type": "code",
      "source": [
        "lista_mediana = [10,40,20,50]\n",
        "lista_mediana\n",
        "mediana(lista_mediana)"
      ],
      "metadata": {
        "colab": {
          "base_uri": "https://localhost:8080/"
        },
        "id": "ExxP6lpOjTF6",
        "outputId": "e324bc17-86da-46e8-dc3d-a5ff6db4eb90"
      },
      "execution_count": 49,
      "outputs": [
        {
          "output_type": "execute_result",
          "data": {
            "text/plain": [
              "30.0"
            ]
          },
          "metadata": {},
          "execution_count": 49
        }
      ]
    },
    {
      "cell_type": "code",
      "source": [
        "# Calculo de la Moda\n",
        "# La Moda es el valor más frecuente del conjunto de datos"
      ],
      "metadata": {
        "id": "g7YQNFmUmriF"
      },
      "execution_count": null,
      "outputs": []
    },
    {
      "cell_type": "markdown",
      "source": [
        "$$ \\bar{x} = \\frac{p}{c-p} $$"
      ],
      "metadata": {
        "id": "73n_VrLSodqv"
      }
    },
    {
      "cell_type": "code",
      "source": [
        "def moda(lista_moda):\n",
        " frecuencias = {}\n",
        " for numero in lista_moda:\n",
        "  if numero in frecuencias:\n",
        "    frecuencias[numero] += 1\n",
        "  else:\n",
        "    frecuencias[numero] = 1\n",
        "\n",
        " moda = max(frecuencias, key=frecuencias.get)\n",
        " return moda\n"
      ],
      "metadata": {
        "id": "2LbML0vXpqTw"
      },
      "execution_count": 85,
      "outputs": []
    },
    {
      "cell_type": "code",
      "source": [
        "lista_moda = [2,4,1,4,9,5,4]\n",
        "lista_moda\n",
        "moda(lista_moda)"
      ],
      "metadata": {
        "colab": {
          "base_uri": "https://localhost:8080/"
        },
        "id": "typ5AOmKyx4Y",
        "outputId": "5478fd8c-6eb3-447f-fa03-aa72ae7c2061"
      },
      "execution_count": 86,
      "outputs": [
        {
          "output_type": "execute_result",
          "data": {
            "text/plain": [
              "4"
            ]
          },
          "metadata": {},
          "execution_count": 86
        }
      ]
    }
  ]
}