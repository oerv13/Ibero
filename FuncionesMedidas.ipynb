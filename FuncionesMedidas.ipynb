{
  "nbformat": 4,
  "nbformat_minor": 0,
  "metadata": {
    "colab": {
      "provenance": [],
      "authorship_tag": "ABX9TyOoePGYlZXURNJgs9wMpnsy",
      "include_colab_link": true
    },
    "kernelspec": {
      "name": "python3",
      "display_name": "Python 3"
    },
    "language_info": {
      "name": "python"
    }
  },
  "cells": [
    {
      "cell_type": "markdown",
      "metadata": {
        "id": "view-in-github",
        "colab_type": "text"
      },
      "source": [
        "<a href=\"https://colab.research.google.com/github/oerv13/Ibero/blob/main/FuncionesMedidas.ipynb\" target=\"_parent\"><img src=\"https://colab.research.google.com/assets/colab-badge.svg\" alt=\"Open In Colab\"/></a>"
      ]
    },
    {
      "cell_type": "code",
      "execution_count": null,
      "metadata": {
        "id": "B6-sDQbRXrBh"
      },
      "outputs": [],
      "source": [
        "# Calculo de la Media\n",
        "# La media es el promedio de un conjunto de valores. Se calcula sumando todos los valores y dividiéndolos por la cantidad total de elementos.\n",
        "# Primero, sumamos todos los valores del conjunto de datos y dividimos por el número de valores para encontrar la media.\n",
        "\n"
      ]
    },
    {
      "cell_type": "markdown",
      "source": [
        "$$ \\bar{x} = \\frac{1}{n} \\sum_{i=1}^{n} x_{i} $$"
      ],
      "metadata": {
        "id": "OsqysL8ka5f9"
      }
    },
    {
      "cell_type": "code",
      "source": [
        "def media(lista):\n",
        "  n = len(lista)\n",
        "  sigma = sum(lista)\n",
        "  return (1/n)*sigma"
      ],
      "metadata": {
        "id": "Wtgfyr7La2nx"
      },
      "execution_count": null,
      "outputs": []
    },
    {
      "cell_type": "code",
      "source": [
        "lista_media = [1,2,3,4,5,6,7,8,9,10]\n",
        "lista_media\n",
        "media(lista_media)"
      ],
      "metadata": {
        "colab": {
          "base_uri": "https://localhost:8080/"
        },
        "id": "zTfi1WfaYTsH",
        "outputId": "179d97fa-ae79-45ca-a31d-2e34426c260f"
      },
      "execution_count": null,
      "outputs": [
        {
          "output_type": "execute_result",
          "data": {
            "text/plain": [
              "5.5"
            ]
          },
          "metadata": {},
          "execution_count": 7
        }
      ]
    },
    {
      "cell_type": "code",
      "source": [
        "# Calculo de la Mediana\n",
        "# La mediana es el valor que divide un conjunto de datos ordenados en dos partes iguales. Si el número de valores es impar, la mediana es el valor central; si es par,\n",
        "# es el promedio de los dos valores centrales.\n",
        "# Ordenamos el conjunto de datos y hallamos el valor central. Si el número de valores es par, promediamos los dos valores centrales.\n"
      ],
      "metadata": {
        "id": "2eojyd7mYRZw"
      },
      "execution_count": null,
      "outputs": []
    },
    {
      "cell_type": "markdown",
      "source": [
        "$$ \\bar{x} = \\sum{1}+{n} \\2 $$\n",
        "\n"
      ],
      "metadata": {
        "id": "9nJR8v-hYJ7v"
      }
    },
    {
      "cell_type": "code",
      "source": [
        "def mediana(lista_mediana):\n",
        "    lista_mediana.sort()\n",
        "    # Obtener longitud\n",
        "    longitud = len(lista_mediana)\n",
        "    # Mitad de la lista\n",
        "    mitad = int(longitud / 2)\n",
        "    # Si la longitud es par, promediar elementos centrales\n",
        "    if longitud % 2 == 0:\n",
        "        mediana = (lista_mediana[mitad - 1]+lista_mediana[mitad]) / 2\n",
        "    else:\n",
        "        # Si no es impar, es la del centro\n",
        "        mediana = lista_mediana[mitad]\n",
        "    return mediana"
      ],
      "metadata": {
        "id": "rWAi0iBaYK98"
      },
      "execution_count": null,
      "outputs": []
    },
    {
      "cell_type": "code",
      "source": [
        "lista_mediana = [10,40,20,50]\n",
        "lista_mediana\n",
        "mediana(lista_mediana)"
      ],
      "metadata": {
        "colab": {
          "base_uri": "https://localhost:8080/"
        },
        "id": "ExxP6lpOjTF6",
        "outputId": "e324bc17-86da-46e8-dc3d-a5ff6db4eb90"
      },
      "execution_count": null,
      "outputs": [
        {
          "output_type": "execute_result",
          "data": {
            "text/plain": [
              "30.0"
            ]
          },
          "metadata": {},
          "execution_count": 49
        }
      ]
    },
    {
      "cell_type": "code",
      "source": [
        "# Calculo de la Moda\n",
        "# La moda es el valor que aparece con mayor frecuencia en un conjunto de datos. Un conjunto puede tener una o más modas.\n",
        "# Contamos la frecuencia de cada valor y seleccionamos el valor que aparece con mayor frecuencia."
      ],
      "metadata": {
        "id": "g7YQNFmUmriF"
      },
      "execution_count": null,
      "outputs": []
    },
    {
      "cell_type": "markdown",
      "source": [
        "$$ \\bar{x} = \\frac{p}{c-p} $$"
      ],
      "metadata": {
        "id": "73n_VrLSodqv"
      }
    },
    {
      "cell_type": "code",
      "source": [
        "def moda(lista_moda):\n",
        " frecuencias = {}\n",
        " for numero in lista_moda:\n",
        "  if numero in frecuencias:\n",
        "    frecuencias[numero] += 1\n",
        "  else:\n",
        "    frecuencias[numero] = 1\n",
        "\n",
        " moda = max(frecuencias, key=frecuencias.get)\n",
        " return moda\n"
      ],
      "metadata": {
        "id": "2LbML0vXpqTw"
      },
      "execution_count": null,
      "outputs": []
    },
    {
      "cell_type": "code",
      "source": [
        "lista_moda = [2,4,1,4,9,5,4]\n",
        "lista_moda\n",
        "moda(lista_moda)"
      ],
      "metadata": {
        "colab": {
          "base_uri": "https://localhost:8080/"
        },
        "id": "typ5AOmKyx4Y",
        "outputId": "5478fd8c-6eb3-447f-fa03-aa72ae7c2061"
      },
      "execution_count": null,
      "outputs": [
        {
          "output_type": "execute_result",
          "data": {
            "text/plain": [
              "4"
            ]
          },
          "metadata": {},
          "execution_count": 86
        }
      ]
    },
    {
      "cell_type": "code",
      "source": [
        "# Calculo de la Varianza\n",
        "# La varianza mide la dispersión de los datos respecto a la media. Es la media de los cuadrados\n",
        "# de las diferencias entre cada valor y la media del conjunto.\n",
        "# Restamos la media de cada valor, elevamos al cuadrado cada diferencia, sumamos todas estas diferencias cuadradas y\n",
        "# dividimos por el número total de valores."
      ],
      "metadata": {
        "id": "PXUlEAHRFcwb"
      },
      "execution_count": null,
      "outputs": []
    },
    {
      "cell_type": "markdown",
      "source": [
        "$$ \\bar{x} = \\sum_{i=1}^{n} (x_{i}-x_)2 / {n -1}  $$"
      ],
      "metadata": {
        "id": "BX52vnb-F5ZV"
      }
    },
    {
      "cell_type": "code",
      "source": [
        "def Varianza(lista_varianza):\n",
        " mean = (sum(lista_varianza) / len(lista_varianza))\n",
        " diff = [(v - mean) for v in lista_varianza]\n",
        " sqr_diff = [d**2 for d in diff]\n",
        " sum_sqr_diff = sum(sqr_diff)\n",
        "\n",
        " variance = sum_sqr_diff / (len(lista_varianza))\n",
        " #variance = variance**0.5\n",
        " return variance"
      ],
      "metadata": {
        "id": "TukLgATYGzaD"
      },
      "execution_count": null,
      "outputs": []
    },
    {
      "cell_type": "code",
      "source": [
        "lista_varianza = [9,10,8,9,7]\n",
        "lista_varianza\n",
        "Varianza(lista_varianza)"
      ],
      "metadata": {
        "colab": {
          "base_uri": "https://localhost:8080/"
        },
        "id": "WYBNs1vtKo_P",
        "outputId": "d9879d03-2a8e-492d-c3c9-27a5cfc1c46d"
      },
      "execution_count": null,
      "outputs": [
        {
          "output_type": "execute_result",
          "data": {
            "text/plain": [
              "1.0399999999999998"
            ]
          },
          "metadata": {},
          "execution_count": 122
        }
      ]
    },
    {
      "cell_type": "code",
      "source": [
        "# Calculo de la Desviacion Estandar\n",
        "# La desviación estándar es la raíz cuadrada de la varianza y representa la dispersión promedio de los datos respecto a la media.\n",
        "# Calculamos la raíz cuadrada de la varianza para obtener la desviación estándar.\n"
      ],
      "metadata": {
        "id": "vrh7T4UKNiTg"
      },
      "execution_count": null,
      "outputs": []
    },
    {
      "cell_type": "markdown",
      "source": [
        "$$ \\bar{x} = (\\sum_{i=1}^{n} (x_{i}-x_)2 / {n -1}) * 0.5  $$"
      ],
      "metadata": {
        "id": "FwkZ8GgOPym4"
      }
    },
    {
      "cell_type": "code",
      "source": [
        "def DesEstandar(lista_DesEstandar):\n",
        " mean = (sum(lista_DesEstandar) / len(lista_DesEstandar))\n",
        " diff = [(v - mean) for v in lista_DesEstandar]\n",
        " sqr_diff = [d**2 for d in diff]\n",
        " sum_sqr_diff = sum(sqr_diff)\n",
        "\n",
        " variance = sum_sqr_diff / (len(lista_DesEstandar))\n",
        " variance = variance**0.5\n",
        " return variance"
      ],
      "metadata": {
        "id": "dXX6Rs-NQRQE"
      },
      "execution_count": null,
      "outputs": []
    },
    {
      "cell_type": "code",
      "source": [
        "lista_DesEstandar = [9,10,8,9,7]\n",
        "lista_DesEstandar\n",
        "DesEstandar(lista_DesEstandar)"
      ],
      "metadata": {
        "colab": {
          "base_uri": "https://localhost:8080/"
        },
        "id": "dx2LU_YGQcu7",
        "outputId": "9a0f03e3-7ed6-4efe-d5cd-db356f5779e4"
      },
      "execution_count": null,
      "outputs": [
        {
          "output_type": "execute_result",
          "data": {
            "text/plain": [
              "1.0198039027185568"
            ]
          },
          "metadata": {},
          "execution_count": 124
        }
      ]
    },
    {
      "cell_type": "code",
      "source": [
        "#Coeficiente de Variacion\n",
        "#El coeficiente de variación es una medida de dispersión relativa que se obtiene dividiendo la desviación estándar entre la media\n",
        "# y se expresa como porcentaje.\n",
        "#X: variable sobre la que se pretenden calcular la varianza\n",
        "#Sx: Desviación típica de la variable X.\n",
        "#| x̄ |: Es la media de la variable X en valor absoluto con x̄ ≠ 0\n",
        "# Dividimos la desviación estándar por la media y multiplicamos por 100 para obtener el porcentaje de dispersión relativa.\n"
      ],
      "metadata": {
        "id": "QVwalrUKR71f"
      },
      "execution_count": null,
      "outputs": []
    },
    {
      "cell_type": "markdown",
      "source": [
        "$$ \\bar{CV} = \\frac {S} {|X<>0|} * 100 $$"
      ],
      "metadata": {
        "id": "05cG1aaySSDR"
      }
    },
    {
      "cell_type": "code",
      "source": [
        "def CoeVar(lista_CV):\n",
        " #Desviacion Estandar\n",
        " mean = (sum(lista_DesEstandar) / len(lista_CV))\n",
        " diff = [(v - mean) for v in lista_CV]\n",
        " sqr_diff = [d**2 for d in diff]\n",
        " sum_sqr_diff = sum(sqr_diff)\n",
        "\n",
        " variance = sum_sqr_diff / (len(lista_CV))\n",
        " variance = variance**0.5\n",
        "\n",
        " #Media\n",
        " n = len(lista_CV)\n",
        " sigma = sum(lista_CV)\n",
        " media = (1/n)*sigma\n",
        "\n",
        "\n",
        " return (variance / media) * 100"
      ],
      "metadata": {
        "id": "uyxt3YUgThdh"
      },
      "execution_count": null,
      "outputs": []
    },
    {
      "cell_type": "code",
      "source": [
        "lista_CV = [9,10,8,9,7]\n",
        "lista_CV\n",
        "CoeVar(lista_CV)"
      ],
      "metadata": {
        "colab": {
          "base_uri": "https://localhost:8080/"
        },
        "id": "cMyhCxfTcFWO",
        "outputId": "ea635dd1-abdd-4b24-d43a-f1502ccb2855"
      },
      "execution_count": null,
      "outputs": [
        {
          "output_type": "execute_result",
          "data": {
            "text/plain": [
              "11.858184915332057"
            ]
          },
          "metadata": {},
          "execution_count": 128
        }
      ]
    },
    {
      "cell_type": "code",
      "source": [
        "# Normalizacion Z\n",
        "# La normalización Z, o estandarización, convierte cada valor en un conjunto de datos en una puntuación z.\n",
        "# Esta puntuación indica cuántas desviaciones estándar está un valor por encima o por debajo de la media.\n",
        "# X: Valor de Entrada\n",
        "# Media\n",
        "# Desviacion Estandar\n",
        "# Para cada valor, restamos la media y dividimos por la desviación estándar, obteniendo una puntuación que permite\n",
        "# comparar datos de diferentes escalas.\n"
      ],
      "metadata": {
        "id": "6JfXZSfpcj6G"
      },
      "execution_count": null,
      "outputs": []
    },
    {
      "cell_type": "markdown",
      "source": [
        "$$ {Z} = {X} - {media} / {Des Est} $$"
      ],
      "metadata": {
        "id": "aBpMCgb2ejOQ"
      }
    },
    {
      "cell_type": "code",
      "source": [
        "def NorZ(lista_NorZ,X):\n",
        " #Desviacion Estandar\n",
        " mean = (sum(lista_DesEstandar) / len(lista_NorZ))\n",
        " diff = [(v - mean) for v in lista_NorZ]\n",
        " sqr_diff = [d**2 for d in diff]\n",
        " sum_sqr_diff = sum(sqr_diff)\n",
        "\n",
        " variance = sum_sqr_diff / (len(lista_NorZ))\n",
        " variance = variance**0.5\n",
        "\n",
        " #Media\n",
        " n = len(lista_NorZ)\n",
        " sigma = sum(lista_NorZ)\n",
        " media = (1/n)*sigma\n",
        "\n",
        "\n",
        " return X - ((variance / media) * 100)"
      ],
      "metadata": {
        "id": "M8e2VIDTfRUR"
      },
      "execution_count": null,
      "outputs": []
    },
    {
      "cell_type": "code",
      "source": [
        "lista_NorZ = [9,10,8,9,7]\n",
        "lista_NorZ\n",
        "NorZ(lista_NorZ,3)"
      ],
      "metadata": {
        "colab": {
          "base_uri": "https://localhost:8080/"
        },
        "id": "oNUlX1tjfe1W",
        "outputId": "d9f1daf9-2653-42ab-8c93-0723533f1298"
      },
      "execution_count": null,
      "outputs": [
        {
          "output_type": "execute_result",
          "data": {
            "text/plain": [
              "-8.858184915332057"
            ]
          },
          "metadata": {},
          "execution_count": 132
        }
      ]
    },
    {
      "cell_type": "code",
      "source": [
        "# Referencias\n",
        "# https://www.w3schools.com/python/ref_stat_median.asp\n",
        "# https://geekflare.com/es/python-find-mean-median-and-mode/\n",
        "# https://es.khanacademy.org/math/statistics-probability/summarizing-quantitative-data/mean-median-basics/a/mean-median-and-mode-review#:~:text=Media%3A%20es%20el%20n%C3%BAmero%20%22promedio,entre%20el%20n%C3%BAmero%20de%20datos.\n",
        "# https://quenube.com/como-encontrar-la-varianza-usando-python/\n",
        "# https://medium.com/@rubenmndez/desviaci%C3%B3n-est%C3%A1ndar-y-varianza-3ba43e63f155\n",
        "# https://fastercapital.com/es/tema/la-f%C3%B3rmula-para-el-coeficiente-de-correlaci%C3%B3n-de-pearson.html\n",
        "# https://www.datacamp.com/es/tutorial/calculate-coefficient-variation-excel\n",
        "# https://jorgeiblanco.medium.com/por-qu%C3%A9-la-normalizaci%C3%B3n-es-clave-e-importante-en-machine-learning-y-ciencia-de-datos-4595f15d5be0\n",
        "# https://www.statology.org/z-score-normalization/\n"
      ],
      "metadata": {
        "id": "Y76sfIOUdeCR"
      },
      "execution_count": null,
      "outputs": []
    },
    {
      "cell_type": "code",
      "source": [
        "### Homework\n",
        "\n",
        "# Numpy\n",
        "\n",
        "import numpy as np\n",
        "matriz = np.array([list(range(6)),list(range(5,11)),list(range(10,16)),list(range(15,21)),list(range(20,26))])\n",
        "matriz"
      ],
      "metadata": {
        "colab": {
          "base_uri": "https://localhost:8080/"
        },
        "id": "S19Cyi0a-GZG",
        "outputId": "c63dc0be-4fa3-40b9-d16e-409ddbd53c6a"
      },
      "execution_count": 1,
      "outputs": [
        {
          "output_type": "execute_result",
          "data": {
            "text/plain": [
              "array([[ 0,  1,  2,  3,  4,  5],\n",
              "       [ 5,  6,  7,  8,  9, 10],\n",
              "       [10, 11, 12, 13, 14, 15],\n",
              "       [15, 16, 17, 18, 19, 20],\n",
              "       [20, 21, 22, 23, 24, 25]])"
            ]
          },
          "metadata": {},
          "execution_count": 1
        }
      ]
    },
    {
      "cell_type": "code",
      "source": [
        "# Cree una matriz de 8x8 de valores enteros entre 0 y 20\n",
        "# matriz = np.random.randint(0, 21, (8, 8))\n",
        "valores = np.tile(np.arange(21), 4)[:64]\n",
        "matriz = valores.reshape(8, 8)\n",
        "print(matriz)"
      ],
      "metadata": {
        "colab": {
          "base_uri": "https://localhost:8080/"
        },
        "id": "2CWmxIAM-dD_",
        "outputId": "508dfe02-bdda-4d60-a40b-145ad94ce38c"
      },
      "execution_count": 2,
      "outputs": [
        {
          "output_type": "stream",
          "name": "stdout",
          "text": [
            "[[ 0  1  2  3  4  5  6  7]\n",
            " [ 8  9 10 11 12 13 14 15]\n",
            " [16 17 18 19 20  0  1  2]\n",
            " [ 3  4  5  6  7  8  9 10]\n",
            " [11 12 13 14 15 16 17 18]\n",
            " [19 20  0  1  2  3  4  5]\n",
            " [ 6  7  8  9 10 11 12 13]\n",
            " [14 15 16 17 18 19 20  0]]\n"
          ]
        }
      ]
    },
    {
      "cell_type": "code",
      "source": [
        "# cree un objeto que sea la misma matriz pero con 4 columnas\n",
        "print(matriz)\n",
        "matriz_4_columnas = matriz.reshape(16, 4)\n",
        "print(matriz_4_columnas)"
      ],
      "metadata": {
        "colab": {
          "base_uri": "https://localhost:8080/"
        },
        "id": "2uX4nLz9-fLO",
        "outputId": "e30dc1a6-2bd3-484b-c7cd-c8084a3f0ff2"
      },
      "execution_count": 3,
      "outputs": [
        {
          "output_type": "stream",
          "name": "stdout",
          "text": [
            "[[ 0  1  2  3  4  5  6  7]\n",
            " [ 8  9 10 11 12 13 14 15]\n",
            " [16 17 18 19 20  0  1  2]\n",
            " [ 3  4  5  6  7  8  9 10]\n",
            " [11 12 13 14 15 16 17 18]\n",
            " [19 20  0  1  2  3  4  5]\n",
            " [ 6  7  8  9 10 11 12 13]\n",
            " [14 15 16 17 18 19 20  0]]\n",
            "[[ 0  1  2  3]\n",
            " [ 4  5  6  7]\n",
            " [ 8  9 10 11]\n",
            " [12 13 14 15]\n",
            " [16 17 18 19]\n",
            " [20  0  1  2]\n",
            " [ 3  4  5  6]\n",
            " [ 7  8  9 10]\n",
            " [11 12 13 14]\n",
            " [15 16 17 18]\n",
            " [19 20  0  1]\n",
            " [ 2  3  4  5]\n",
            " [ 6  7  8  9]\n",
            " [10 11 12 13]\n",
            " [14 15 16 17]\n",
            " [18 19 20  0]]\n"
          ]
        }
      ]
    },
    {
      "cell_type": "code",
      "source": [
        "# acceda a la posición (6,4) de la matriz 1\n",
        "print(matriz)\n",
        "print(matriz[6,4])"
      ],
      "metadata": {
        "colab": {
          "base_uri": "https://localhost:8080/"
        },
        "id": "HLIBSLpI-hot",
        "outputId": "97c81280-5c93-465e-cd99-731afe8e6bc8"
      },
      "execution_count": 4,
      "outputs": [
        {
          "output_type": "stream",
          "name": "stdout",
          "text": [
            "[[ 0  1  2  3  4  5  6  7]\n",
            " [ 8  9 10 11 12 13 14 15]\n",
            " [16 17 18 19 20  0  1  2]\n",
            " [ 3  4  5  6  7  8  9 10]\n",
            " [11 12 13 14 15 16 17 18]\n",
            " [19 20  0  1  2  3  4  5]\n",
            " [ 6  7  8  9 10 11 12 13]\n",
            " [14 15 16 17 18 19 20  0]]\n",
            "10\n"
          ]
        }
      ]
    },
    {
      "cell_type": "code",
      "source": [
        "# acceda a la sub matriz de la matriz 1 que va de la fila 5 a la 8 y de la columna 3 a la 7\n",
        "print(matriz)\n",
        "submatriz = matriz[4:8, 2:7]\n",
        "print(submatriz)"
      ],
      "metadata": {
        "colab": {
          "base_uri": "https://localhost:8080/"
        },
        "id": "6kIERLNf-l8l",
        "outputId": "f0da6235-0b95-43a3-dd2d-7b0a72ff9368"
      },
      "execution_count": 5,
      "outputs": [
        {
          "output_type": "stream",
          "name": "stdout",
          "text": [
            "[[ 0  1  2  3  4  5  6  7]\n",
            " [ 8  9 10 11 12 13 14 15]\n",
            " [16 17 18 19 20  0  1  2]\n",
            " [ 3  4  5  6  7  8  9 10]\n",
            " [11 12 13 14 15 16 17 18]\n",
            " [19 20  0  1  2  3  4  5]\n",
            " [ 6  7  8  9 10 11 12 13]\n",
            " [14 15 16 17 18 19 20  0]]\n",
            "[[13 14 15 16 17]\n",
            " [ 0  1  2  3  4]\n",
            " [ 8  9 10 11 12]\n",
            " [16 17 18 19 20]]\n"
          ]
        }
      ]
    }
  ]
}