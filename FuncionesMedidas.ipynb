{
  "nbformat": 4,
  "nbformat_minor": 0,
  "metadata": {
    "colab": {
      "provenance": [],
      "authorship_tag": "ABX9TyOFfETLpaiLhcIvUCHRRGC0",
      "include_colab_link": true
    },
    "kernelspec": {
      "name": "python3",
      "display_name": "Python 3"
    },
    "language_info": {
      "name": "python"
    }
  },
  "cells": [
    {
      "cell_type": "markdown",
      "metadata": {
        "id": "view-in-github",
        "colab_type": "text"
      },
      "source": [
        "<a href=\"https://colab.research.google.com/github/oerv13/Ibero/blob/main/FuncionesMedidas.ipynb\" target=\"_parent\"><img src=\"https://colab.research.google.com/assets/colab-badge.svg\" alt=\"Open In Colab\"/></a>"
      ]
    },
    {
      "cell_type": "code",
      "execution_count": null,
      "metadata": {
        "id": "B6-sDQbRXrBh"
      },
      "outputs": [],
      "source": [
        "# Calculo de la Media\n",
        "# Es el valor promedio de un conjunto de mediciones\n",
        "\n"
      ]
    },
    {
      "cell_type": "markdown",
      "source": [
        "$$ \\bar{x} = \\frac{1}{n} \\sum_{i=1}^{n} x_{i} $$"
      ],
      "metadata": {
        "id": "OsqysL8ka5f9"
      }
    },
    {
      "cell_type": "code",
      "source": [
        "def media(lista):\n",
        "  n = len(lista)\n",
        "  sigma = sum(lista)\n",
        "  return (1/n)*sigma"
      ],
      "metadata": {
        "id": "Wtgfyr7La2nx"
      },
      "execution_count": null,
      "outputs": []
    },
    {
      "cell_type": "code",
      "source": [
        "lista_media = [1,2,3,4,5,6,7,8,9,10]\n",
        "lista_media\n",
        "media(lista_media)"
      ],
      "metadata": {
        "colab": {
          "base_uri": "https://localhost:8080/"
        },
        "id": "zTfi1WfaYTsH",
        "outputId": "179d97fa-ae79-45ca-a31d-2e34426c260f"
      },
      "execution_count": null,
      "outputs": [
        {
          "output_type": "execute_result",
          "data": {
            "text/plain": [
              "5.5"
            ]
          },
          "metadata": {},
          "execution_count": 7
        }
      ]
    },
    {
      "cell_type": "code",
      "source": [
        "# Calculo de la Mediana\n",
        "# La mediana es el punto medio en un conjunto de datos, la mitad de los datos son menores que la mediana\n",
        "# y la mitad de los datos son más grandes.\n",
        "\n"
      ],
      "metadata": {
        "id": "2eojyd7mYRZw"
      },
      "execution_count": null,
      "outputs": []
    },
    {
      "cell_type": "markdown",
      "source": [
        "$$ \\bar{x} = \\sum{1}+{n} \\2 $$\n",
        "\n"
      ],
      "metadata": {
        "id": "9nJR8v-hYJ7v"
      }
    },
    {
      "cell_type": "code",
      "source": [
        "def mediana(lista_mediana):\n",
        "    lista_mediana.sort()\n",
        "    # Obtener longitud\n",
        "    longitud = len(lista_mediana)\n",
        "    # Mitad de la lista\n",
        "    mitad = int(longitud / 2)\n",
        "    # Si la longitud es par, promediar elementos centrales\n",
        "    if longitud % 2 == 0:\n",
        "        mediana = (lista_mediana[mitad - 1]+lista_mediana[mitad]) / 2\n",
        "    else:\n",
        "        # Si no, es la del centro\n",
        "        mediana = lista_mediana[mitad]\n",
        "    return mediana"
      ],
      "metadata": {
        "id": "rWAi0iBaYK98"
      },
      "execution_count": null,
      "outputs": []
    },
    {
      "cell_type": "code",
      "source": [
        "lista_mediana = [10,40,20,50]\n",
        "lista_mediana\n",
        "mediana(lista_mediana)"
      ],
      "metadata": {
        "colab": {
          "base_uri": "https://localhost:8080/"
        },
        "id": "ExxP6lpOjTF6",
        "outputId": "e324bc17-86da-46e8-dc3d-a5ff6db4eb90"
      },
      "execution_count": null,
      "outputs": [
        {
          "output_type": "execute_result",
          "data": {
            "text/plain": [
              "30.0"
            ]
          },
          "metadata": {},
          "execution_count": 49
        }
      ]
    },
    {
      "cell_type": "code",
      "source": [
        "# Calculo de la Moda\n",
        "# La Moda es el valor más frecuente del conjunto de datos"
      ],
      "metadata": {
        "id": "g7YQNFmUmriF"
      },
      "execution_count": null,
      "outputs": []
    },
    {
      "cell_type": "markdown",
      "source": [
        "$$ \\bar{x} = \\frac{p}{c-p} $$"
      ],
      "metadata": {
        "id": "73n_VrLSodqv"
      }
    },
    {
      "cell_type": "code",
      "source": [
        "def moda(lista_moda):\n",
        " frecuencias = {}\n",
        " for numero in lista_moda:\n",
        "  if numero in frecuencias:\n",
        "    frecuencias[numero] += 1\n",
        "  else:\n",
        "    frecuencias[numero] = 1\n",
        "\n",
        " moda = max(frecuencias, key=frecuencias.get)\n",
        " return moda\n"
      ],
      "metadata": {
        "id": "2LbML0vXpqTw"
      },
      "execution_count": null,
      "outputs": []
    },
    {
      "cell_type": "code",
      "source": [
        "lista_moda = [2,4,1,4,9,5,4]\n",
        "lista_moda\n",
        "moda(lista_moda)"
      ],
      "metadata": {
        "colab": {
          "base_uri": "https://localhost:8080/"
        },
        "id": "typ5AOmKyx4Y",
        "outputId": "5478fd8c-6eb3-447f-fa03-aa72ae7c2061"
      },
      "execution_count": null,
      "outputs": [
        {
          "output_type": "execute_result",
          "data": {
            "text/plain": [
              "4"
            ]
          },
          "metadata": {},
          "execution_count": 86
        }
      ]
    },
    {
      "cell_type": "code",
      "source": [
        "# Calculo de la Varianza\n",
        "# La Varianza es una medida de dispersión que se utiliza para representar la variabilidad de un conjunto de datos"
      ],
      "metadata": {
        "id": "PXUlEAHRFcwb"
      },
      "execution_count": null,
      "outputs": []
    },
    {
      "cell_type": "markdown",
      "source": [
        "$$ \\bar{x} = \\sum_{i=1}^{n} (x_{i}-x_)2 / {n -1}  $$"
      ],
      "metadata": {
        "id": "BX52vnb-F5ZV"
      }
    },
    {
      "cell_type": "code",
      "source": [
        "def Varianza(lista_varianza):\n",
        " mean = (sum(lista_varianza) / len(lista_varianza))\n",
        " diff = [(v - mean) for v in lista_varianza]\n",
        " sqr_diff = [d**2 for d in diff]\n",
        " sum_sqr_diff = sum(sqr_diff)\n",
        "\n",
        " variance = sum_sqr_diff / (len(lista_varianza))\n",
        " #variance = variance**0.5\n",
        " return variance"
      ],
      "metadata": {
        "id": "TukLgATYGzaD"
      },
      "execution_count": null,
      "outputs": []
    },
    {
      "cell_type": "code",
      "source": [
        "lista_varianza = [9,10,8,9,7]\n",
        "lista_varianza\n",
        "Varianza(lista_varianza)"
      ],
      "metadata": {
        "colab": {
          "base_uri": "https://localhost:8080/"
        },
        "id": "WYBNs1vtKo_P",
        "outputId": "d9879d03-2a8e-492d-c3c9-27a5cfc1c46d"
      },
      "execution_count": null,
      "outputs": [
        {
          "output_type": "execute_result",
          "data": {
            "text/plain": [
              "1.0399999999999998"
            ]
          },
          "metadata": {},
          "execution_count": 122
        }
      ]
    },
    {
      "cell_type": "code",
      "source": [
        "# Calculo de la Desviacion Estandar\n",
        "# La desviación estándar es una medida utilizada para calcular la variación en la que puntos de datos individuales difieren de la media.\n"
      ],
      "metadata": {
        "id": "vrh7T4UKNiTg"
      },
      "execution_count": null,
      "outputs": []
    },
    {
      "cell_type": "markdown",
      "source": [
        "$$ \\bar{x} = (\\sum_{i=1}^{n} (x_{i}-x_)2 / {n -1}) * 0.5  $$"
      ],
      "metadata": {
        "id": "FwkZ8GgOPym4"
      }
    },
    {
      "cell_type": "code",
      "source": [
        "def DesEstandar(lista_DesEstandar):\n",
        " mean = (sum(lista_DesEstandar) / len(lista_DesEstandar))\n",
        " diff = [(v - mean) for v in lista_DesEstandar]\n",
        " sqr_diff = [d**2 for d in diff]\n",
        " sum_sqr_diff = sum(sqr_diff)\n",
        "\n",
        " variance = sum_sqr_diff / (len(lista_DesEstandar))\n",
        " variance = variance**0.5\n",
        " return variance"
      ],
      "metadata": {
        "id": "dXX6Rs-NQRQE"
      },
      "execution_count": null,
      "outputs": []
    },
    {
      "cell_type": "code",
      "source": [
        "lista_DesEstandar = [9,10,8,9,7]\n",
        "lista_DesEstandar\n",
        "DesEstandar(lista_DesEstandar)"
      ],
      "metadata": {
        "colab": {
          "base_uri": "https://localhost:8080/"
        },
        "id": "dx2LU_YGQcu7",
        "outputId": "9a0f03e3-7ed6-4efe-d5cd-db356f5779e4"
      },
      "execution_count": null,
      "outputs": [
        {
          "output_type": "execute_result",
          "data": {
            "text/plain": [
              "1.0198039027185568"
            ]
          },
          "metadata": {},
          "execution_count": 124
        }
      ]
    },
    {
      "cell_type": "code",
      "source": [
        "#Coeficiente de Variacion\n",
        "#El CV es una medida estadística que nos informa acerca de la dispersión relativa de un conjunto de datos.\n",
        "#X: variable sobre la que se pretenden calcular la varianza\n",
        "#Sx: Desviación típica de la variable X.\n",
        "#| x̄ |: Es la media de la variable X en valor absoluto con x̄ ≠ 0\n"
      ],
      "metadata": {
        "id": "QVwalrUKR71f"
      },
      "execution_count": null,
      "outputs": []
    },
    {
      "cell_type": "markdown",
      "source": [
        "$$ \\bar{CV} = \\frac {S} {|X<>0|} * 100 $$"
      ],
      "metadata": {
        "id": "05cG1aaySSDR"
      }
    },
    {
      "cell_type": "code",
      "source": [
        "def CoeVar(lista_CV):\n",
        " #Desviacion Estandar\n",
        " mean = (sum(lista_DesEstandar) / len(lista_CV))\n",
        " diff = [(v - mean) for v in lista_CV]\n",
        " sqr_diff = [d**2 for d in diff]\n",
        " sum_sqr_diff = sum(sqr_diff)\n",
        "\n",
        " variance = sum_sqr_diff / (len(lista_CV))\n",
        " variance = variance**0.5\n",
        "\n",
        " #Media\n",
        " n = len(lista_CV)\n",
        " sigma = sum(lista_CV)\n",
        " media = (1/n)*sigma\n",
        "\n",
        "\n",
        " return (variance / media) * 100"
      ],
      "metadata": {
        "id": "uyxt3YUgThdh"
      },
      "execution_count": null,
      "outputs": []
    },
    {
      "cell_type": "code",
      "source": [
        "lista_CV = [9,10,8,9,7]\n",
        "lista_CV\n",
        "CoeVar(lista_CV)"
      ],
      "metadata": {
        "colab": {
          "base_uri": "https://localhost:8080/"
        },
        "id": "cMyhCxfTcFWO",
        "outputId": "ea635dd1-abdd-4b24-d43a-f1502ccb2855"
      },
      "execution_count": null,
      "outputs": [
        {
          "output_type": "execute_result",
          "data": {
            "text/plain": [
              "11.858184915332057"
            ]
          },
          "metadata": {},
          "execution_count": 128
        }
      ]
    },
    {
      "cell_type": "code",
      "source": [
        "# Normalizacion Z\n",
        "# La puntuación z indica cuántas desviaciones típicas tiene el valor x por encima (a la derecha) o por debajo (a la izquierda) de la media\n",
        "# X: Valor de Entrada\n",
        "# Media\n",
        "# Desviacion Estandar\n"
      ],
      "metadata": {
        "id": "6JfXZSfpcj6G"
      },
      "execution_count": null,
      "outputs": []
    },
    {
      "cell_type": "markdown",
      "source": [
        "$$ {Z} = {X} - {media} / {Des Est} $$"
      ],
      "metadata": {
        "id": "aBpMCgb2ejOQ"
      }
    },
    {
      "cell_type": "code",
      "source": [
        "def NorZ(lista_NorZ,X):\n",
        " #Desviacion Estandar\n",
        " mean = (sum(lista_DesEstandar) / len(lista_NorZ))\n",
        " diff = [(v - mean) for v in lista_NorZ]\n",
        " sqr_diff = [d**2 for d in diff]\n",
        " sum_sqr_diff = sum(sqr_diff)\n",
        "\n",
        " variance = sum_sqr_diff / (len(lista_NorZ))\n",
        " variance = variance**0.5\n",
        "\n",
        " #Media\n",
        " n = len(lista_NorZ)\n",
        " sigma = sum(lista_NorZ)\n",
        " media = (1/n)*sigma\n",
        "\n",
        "\n",
        " return X - ((variance / media) * 100)"
      ],
      "metadata": {
        "id": "M8e2VIDTfRUR"
      },
      "execution_count": null,
      "outputs": []
    },
    {
      "cell_type": "code",
      "source": [
        "lista_NorZ = [9,10,8,9,7]\n",
        "lista_NorZ\n",
        "NorZ(lista_NorZ,3)"
      ],
      "metadata": {
        "colab": {
          "base_uri": "https://localhost:8080/"
        },
        "id": "oNUlX1tjfe1W",
        "outputId": "d9f1daf9-2653-42ab-8c93-0723533f1298"
      },
      "execution_count": null,
      "outputs": [
        {
          "output_type": "execute_result",
          "data": {
            "text/plain": [
              "-8.858184915332057"
            ]
          },
          "metadata": {},
          "execution_count": 132
        }
      ]
    },
    {
      "cell_type": "code",
      "source": [
        "# Referencias\n",
        "# https://www.w3schools.com/python/ref_stat_median.asp\n",
        "# https://geekflare.com/es/python-find-mean-median-and-mode/\n",
        "# https://es.khanacademy.org/math/statistics-probability/summarizing-quantitative-data/mean-median-basics/a/mean-median-and-mode-review#:~:text=Media%3A%20es%20el%20n%C3%BAmero%20%22promedio,entre%20el%20n%C3%BAmero%20de%20datos.\n",
        "# https://quenube.com/como-encontrar-la-varianza-usando-python/\n",
        "# https://medium.com/@rubenmndez/desviaci%C3%B3n-est%C3%A1ndar-y-varianza-3ba43e63f155\n",
        "# https://fastercapital.com/es/tema/la-f%C3%B3rmula-para-el-coeficiente-de-correlaci%C3%B3n-de-pearson.html\n",
        "# https://www.datacamp.com/es/tutorial/calculate-coefficient-variation-excel\n",
        "# https://jorgeiblanco.medium.com/por-qu%C3%A9-la-normalizaci%C3%B3n-es-clave-e-importante-en-machine-learning-y-ciencia-de-datos-4595f15d5be0\n",
        "# https://www.statology.org/z-score-normalization/\n"
      ],
      "metadata": {
        "id": "Y76sfIOUdeCR"
      },
      "execution_count": null,
      "outputs": []
    }
  ]
}