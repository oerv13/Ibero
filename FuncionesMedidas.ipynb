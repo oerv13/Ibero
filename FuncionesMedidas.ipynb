{
  "nbformat": 4,
  "nbformat_minor": 0,
  "metadata": {
    "colab": {
      "provenance": [],
      "authorship_tag": "ABX9TyOmGX2L0GS1tzNW8vwZXLmq",
      "include_colab_link": true
    },
    "kernelspec": {
      "name": "python3",
      "display_name": "Python 3"
    },
    "language_info": {
      "name": "python"
    }
  },
  "cells": [
    {
      "cell_type": "markdown",
      "metadata": {
        "id": "view-in-github",
        "colab_type": "text"
      },
      "source": [
        "<a href=\"https://colab.research.google.com/github/oerv13/Ibero/blob/main/FuncionesMedidas.ipynb\" target=\"_parent\"><img src=\"https://colab.research.google.com/assets/colab-badge.svg\" alt=\"Open In Colab\"/></a>"
      ]
    },
    {
      "cell_type": "code",
      "execution_count": 2,
      "metadata": {
        "id": "B6-sDQbRXrBh"
      },
      "outputs": [],
      "source": [
        "# Calculo de la Media\n",
        "# Se Calcula\n",
        "\n",
        "def media(lista):\n",
        "  n = len(lista)\n",
        "  sigma = sum(lista)\n",
        "  return (1/n)*sigma"
      ]
    },
    {
      "cell_type": "markdown",
      "source": [],
      "metadata": {
        "id": "7kcMFQt4YS-u"
      }
    },
    {
      "cell_type": "code",
      "source": [
        "lista_media = [1,2,3,4,5,6,7,8,9,10]\n",
        "lista_media\n",
        "media(lista_media)"
      ],
      "metadata": {
        "colab": {
          "base_uri": "https://localhost:8080/"
        },
        "id": "zTfi1WfaYTsH",
        "outputId": "179d97fa-ae79-45ca-a31d-2e34426c260f"
      },
      "execution_count": 7,
      "outputs": [
        {
          "output_type": "execute_result",
          "data": {
            "text/plain": [
              "5.5"
            ]
          },
          "metadata": {},
          "execution_count": 7
        }
      ]
    },
    {
      "cell_type": "markdown",
      "source": [],
      "metadata": {
        "id": "KYjNjdBNYUaT"
      }
    },
    {
      "cell_type": "code",
      "source": [],
      "metadata": {
        "id": "2eojyd7mYRZw"
      },
      "execution_count": null,
      "outputs": []
    },
    {
      "cell_type": "markdown",
      "source": [],
      "metadata": {
        "id": "9nJR8v-hYJ7v"
      }
    },
    {
      "cell_type": "code",
      "source": [],
      "metadata": {
        "id": "rWAi0iBaYK98"
      },
      "execution_count": null,
      "outputs": []
    },
    {
      "cell_type": "markdown",
      "source": [
        "$$ \\bar{x} = \\frac{1}{n} \\sum_{i=1}^{n} x_{i} $$"
      ],
      "metadata": {
        "id": "kB91Hwn_YOhq"
      }
    }
  ]
}