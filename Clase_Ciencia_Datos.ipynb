{
  "nbformat": 4,
  "nbformat_minor": 0,
  "metadata": {
    "colab": {
      "provenance": [],
      "authorship_tag": "ABX9TyOGThZTMuK32jZcL3VziYvI",
      "include_colab_link": true
    },
    "kernelspec": {
      "name": "python3",
      "display_name": "Python 3"
    },
    "language_info": {
      "name": "python"
    }
  },
  "cells": [
    {
      "cell_type": "markdown",
      "metadata": {
        "id": "view-in-github",
        "colab_type": "text"
      },
      "source": [
        "<a href=\"https://colab.research.google.com/github/oerv13/Ibero/blob/main/Clase_Ciencia_Datos.ipynb\" target=\"_parent\"><img src=\"https://colab.research.google.com/assets/colab-badge.svg\" alt=\"Open In Colab\"/></a>"
      ]
    },
    {
      "cell_type": "code",
      "execution_count": null,
      "metadata": {
        "id": "ZqYxWTZTAfEt"
      },
      "outputs": [],
      "source": []
    },
    {
      "cell_type": "markdown",
      "source": [
        "Limpieza y preparacion de los datos\n",
        "\n",
        "Importar las libreias a usar\n"
      ],
      "metadata": {
        "id": "ul7rVJdmAgpL"
      }
    },
    {
      "cell_type": "code",
      "source": [
        "import pandas as pd\n",
        "import numpy as np\n",
        "import math\n",
        "import matplotlib.pyplot as plt\n",
        "import seaborn as sns\n",
        "from sklearn.preprocessing import StandardScaler, MinMaxScaler, OneHotEncoder\n",
        "from sklearn.impute import SimpleImputer"
      ],
      "metadata": {
        "id": "pvABEnN2AuJF"
      },
      "execution_count": 1,
      "outputs": []
    },
    {
      "cell_type": "markdown",
      "source": [
        "1. Cargar los datos (Dataset)"
      ],
      "metadata": {
        "id": "9xvc1V_iBS6C"
      }
    },
    {
      "cell_type": "code",
      "source": [
        "# Agregar Disco Google Drive\n",
        "\n",
        "from google.colab import drive\n",
        "drive.mount('/content/drive')"
      ],
      "metadata": {
        "colab": {
          "base_uri": "https://localhost:8080/",
          "height": 321
        },
        "collapsed": true,
        "id": "uEjTZsffAmX4",
        "outputId": "a5427d18-d2f0-4461-c8fb-30a5a970f95f"
      },
      "execution_count": 2,
      "outputs": [
        {
          "output_type": "error",
          "ename": "MessageError",
          "evalue": "Error: credential propagation was unsuccessful",
          "traceback": [
            "\u001b[0;31m---------------------------------------------------------------------------\u001b[0m",
            "\u001b[0;31mMessageError\u001b[0m                              Traceback (most recent call last)",
            "\u001b[0;32m/tmp/ipython-input-1102713939.py\u001b[0m in \u001b[0;36m<cell line: 0>\u001b[0;34m()\u001b[0m\n\u001b[1;32m      2\u001b[0m \u001b[0;34m\u001b[0m\u001b[0m\n\u001b[1;32m      3\u001b[0m \u001b[0;32mfrom\u001b[0m \u001b[0mgoogle\u001b[0m\u001b[0;34m.\u001b[0m\u001b[0mcolab\u001b[0m \u001b[0;32mimport\u001b[0m \u001b[0mdrive\u001b[0m\u001b[0;34m\u001b[0m\u001b[0;34m\u001b[0m\u001b[0m\n\u001b[0;32m----> 4\u001b[0;31m \u001b[0mdrive\u001b[0m\u001b[0;34m.\u001b[0m\u001b[0mmount\u001b[0m\u001b[0;34m(\u001b[0m\u001b[0;34m'/content/drive'\u001b[0m\u001b[0;34m)\u001b[0m\u001b[0;34m\u001b[0m\u001b[0;34m\u001b[0m\u001b[0m\n\u001b[0m",
            "\u001b[0;32m/usr/local/lib/python3.11/dist-packages/google/colab/drive.py\u001b[0m in \u001b[0;36mmount\u001b[0;34m(mountpoint, force_remount, timeout_ms, readonly)\u001b[0m\n\u001b[1;32m     98\u001b[0m \u001b[0;32mdef\u001b[0m \u001b[0mmount\u001b[0m\u001b[0;34m(\u001b[0m\u001b[0mmountpoint\u001b[0m\u001b[0;34m,\u001b[0m \u001b[0mforce_remount\u001b[0m\u001b[0;34m=\u001b[0m\u001b[0;32mFalse\u001b[0m\u001b[0;34m,\u001b[0m \u001b[0mtimeout_ms\u001b[0m\u001b[0;34m=\u001b[0m\u001b[0;36m120000\u001b[0m\u001b[0;34m,\u001b[0m \u001b[0mreadonly\u001b[0m\u001b[0;34m=\u001b[0m\u001b[0;32mFalse\u001b[0m\u001b[0;34m)\u001b[0m\u001b[0;34m:\u001b[0m\u001b[0;34m\u001b[0m\u001b[0;34m\u001b[0m\u001b[0m\n\u001b[1;32m     99\u001b[0m   \u001b[0;34m\"\"\"Mount your Google Drive at the specified mountpoint path.\"\"\"\u001b[0m\u001b[0;34m\u001b[0m\u001b[0;34m\u001b[0m\u001b[0m\n\u001b[0;32m--> 100\u001b[0;31m   return _mount(\n\u001b[0m\u001b[1;32m    101\u001b[0m       \u001b[0mmountpoint\u001b[0m\u001b[0;34m,\u001b[0m\u001b[0;34m\u001b[0m\u001b[0;34m\u001b[0m\u001b[0m\n\u001b[1;32m    102\u001b[0m       \u001b[0mforce_remount\u001b[0m\u001b[0;34m=\u001b[0m\u001b[0mforce_remount\u001b[0m\u001b[0;34m,\u001b[0m\u001b[0;34m\u001b[0m\u001b[0;34m\u001b[0m\u001b[0m\n",
            "\u001b[0;32m/usr/local/lib/python3.11/dist-packages/google/colab/drive.py\u001b[0m in \u001b[0;36m_mount\u001b[0;34m(mountpoint, force_remount, timeout_ms, ephemeral, readonly)\u001b[0m\n\u001b[1;32m    135\u001b[0m   )\n\u001b[1;32m    136\u001b[0m   \u001b[0;32mif\u001b[0m \u001b[0mephemeral\u001b[0m\u001b[0;34m:\u001b[0m\u001b[0;34m\u001b[0m\u001b[0;34m\u001b[0m\u001b[0m\n\u001b[0;32m--> 137\u001b[0;31m     _message.blocking_request(\n\u001b[0m\u001b[1;32m    138\u001b[0m         \u001b[0;34m'request_auth'\u001b[0m\u001b[0;34m,\u001b[0m\u001b[0;34m\u001b[0m\u001b[0;34m\u001b[0m\u001b[0m\n\u001b[1;32m    139\u001b[0m         \u001b[0mrequest\u001b[0m\u001b[0;34m=\u001b[0m\u001b[0;34m{\u001b[0m\u001b[0;34m'authType'\u001b[0m\u001b[0;34m:\u001b[0m \u001b[0;34m'dfs_ephemeral'\u001b[0m\u001b[0;34m}\u001b[0m\u001b[0;34m,\u001b[0m\u001b[0;34m\u001b[0m\u001b[0;34m\u001b[0m\u001b[0m\n",
            "\u001b[0;32m/usr/local/lib/python3.11/dist-packages/google/colab/_message.py\u001b[0m in \u001b[0;36mblocking_request\u001b[0;34m(request_type, request, timeout_sec, parent)\u001b[0m\n\u001b[1;32m    174\u001b[0m       \u001b[0mrequest_type\u001b[0m\u001b[0;34m,\u001b[0m \u001b[0mrequest\u001b[0m\u001b[0;34m,\u001b[0m \u001b[0mparent\u001b[0m\u001b[0;34m=\u001b[0m\u001b[0mparent\u001b[0m\u001b[0;34m,\u001b[0m \u001b[0mexpect_reply\u001b[0m\u001b[0;34m=\u001b[0m\u001b[0;32mTrue\u001b[0m\u001b[0;34m\u001b[0m\u001b[0;34m\u001b[0m\u001b[0m\n\u001b[1;32m    175\u001b[0m   )\n\u001b[0;32m--> 176\u001b[0;31m   \u001b[0;32mreturn\u001b[0m \u001b[0mread_reply_from_input\u001b[0m\u001b[0;34m(\u001b[0m\u001b[0mrequest_id\u001b[0m\u001b[0;34m,\u001b[0m \u001b[0mtimeout_sec\u001b[0m\u001b[0;34m)\u001b[0m\u001b[0;34m\u001b[0m\u001b[0;34m\u001b[0m\u001b[0m\n\u001b[0m",
            "\u001b[0;32m/usr/local/lib/python3.11/dist-packages/google/colab/_message.py\u001b[0m in \u001b[0;36mread_reply_from_input\u001b[0;34m(message_id, timeout_sec)\u001b[0m\n\u001b[1;32m    101\u001b[0m     ):\n\u001b[1;32m    102\u001b[0m       \u001b[0;32mif\u001b[0m \u001b[0;34m'error'\u001b[0m \u001b[0;32min\u001b[0m \u001b[0mreply\u001b[0m\u001b[0;34m:\u001b[0m\u001b[0;34m\u001b[0m\u001b[0;34m\u001b[0m\u001b[0m\n\u001b[0;32m--> 103\u001b[0;31m         \u001b[0;32mraise\u001b[0m \u001b[0mMessageError\u001b[0m\u001b[0;34m(\u001b[0m\u001b[0mreply\u001b[0m\u001b[0;34m[\u001b[0m\u001b[0;34m'error'\u001b[0m\u001b[0;34m]\u001b[0m\u001b[0;34m)\u001b[0m\u001b[0;34m\u001b[0m\u001b[0;34m\u001b[0m\u001b[0m\n\u001b[0m\u001b[1;32m    104\u001b[0m       \u001b[0;32mreturn\u001b[0m \u001b[0mreply\u001b[0m\u001b[0;34m.\u001b[0m\u001b[0mget\u001b[0m\u001b[0;34m(\u001b[0m\u001b[0;34m'data'\u001b[0m\u001b[0;34m,\u001b[0m \u001b[0;32mNone\u001b[0m\u001b[0;34m)\u001b[0m\u001b[0;34m\u001b[0m\u001b[0;34m\u001b[0m\u001b[0m\n\u001b[1;32m    105\u001b[0m \u001b[0;34m\u001b[0m\u001b[0m\n",
            "\u001b[0;31mMessageError\u001b[0m: Error: credential propagation was unsuccessful"
          ]
        }
      ]
    },
    {
      "cell_type": "code",
      "source": [
        "# Crear variable df con el dataset, tener en cuenta no usar encabezado del dataset\n",
        "\n",
        "df = pd.read_csv('/content/sample_data/POWER_Point_Hourly_5yearsC.csv', sep = ',', encoding = \"ISO-8859-1\", skiprows=15)\n",
        "print(df)\n",
        ""
      ],
      "metadata": {
        "colab": {
          "base_uri": "https://localhost:8080/"
        },
        "id": "EaZO3sePELGx",
        "outputId": "04b89cac-a4d9-42cf-9c34-d8ab85ff1c0d"
      },
      "execution_count": 5,
      "outputs": [
        {
          "output_type": "stream",
          "name": "stdout",
          "text": [
            "       YEAR  MO  DY  HR  ALLSKY_SFC_SW_DWN    T2M   RH2M  PRECTOTCORR     PS  \\\n",
            "0      2020   1   1   0                0.0  16.11  97.02         2.12  82.31   \n",
            "1      2020   1   1   1                0.0  16.04  96.61         2.13  82.26   \n",
            "2      2020   1   1   2                0.0  15.88  96.98         2.16  82.22   \n",
            "3      2020   1   1   3                0.0  15.62  97.36         1.86  82.22   \n",
            "4      2020   1   1   4                0.0  15.40  97.65         1.27  82.24   \n",
            "...     ...  ..  ..  ..                ...    ...    ...          ...    ...   \n",
            "43867  2025   1   1  19                0.0  17.33  87.88         4.76  82.31   \n",
            "43868  2025   1   1  20                0.0  16.77  89.14         3.94  82.37   \n",
            "43869  2025   1   1  21                0.0  16.34  89.32         4.12  82.39   \n",
            "43870  2025   1   1  22                0.0  16.28  87.29         6.85  82.41   \n",
            "43871  2025   1   1  23                0.0  16.15  87.59         7.40  82.41   \n",
            "\n",
            "       WS10M  WD10M  \n",
            "0       1.43   35.9  \n",
            "1       1.29   25.8  \n",
            "2       1.27   17.9  \n",
            "3       1.36   21.1  \n",
            "4       1.45   31.2  \n",
            "...      ...    ...  \n",
            "43867   0.91   22.0  \n",
            "43868   1.10   47.6  \n",
            "43869   1.15   61.0  \n",
            "43870   1.05   64.7  \n",
            "43871   1.00   63.9  \n",
            "\n",
            "[43872 rows x 11 columns]\n"
          ]
        }
      ]
    },
    {
      "cell_type": "markdown",
      "source": [
        "2. Explorar y Diagnosticar\n"
      ],
      "metadata": {
        "id": "aLiEAjXfFma6"
      }
    },
    {
      "cell_type": "code",
      "source": [
        "print(df.info())"
      ],
      "metadata": {
        "colab": {
          "base_uri": "https://localhost:8080/"
        },
        "id": "1Koy-w4EFp1d",
        "outputId": "b8bcd2a2-1b30-4b1d-84aa-717b2977e1c4"
      },
      "execution_count": 6,
      "outputs": [
        {
          "output_type": "stream",
          "name": "stdout",
          "text": [
            "<class 'pandas.core.frame.DataFrame'>\n",
            "RangeIndex: 43872 entries, 0 to 43871\n",
            "Data columns (total 11 columns):\n",
            " #   Column             Non-Null Count  Dtype  \n",
            "---  ------             --------------  -----  \n",
            " 0   YEAR               43872 non-null  int64  \n",
            " 1   MO                 43872 non-null  int64  \n",
            " 2   DY                 43872 non-null  int64  \n",
            " 3   HR                 43872 non-null  int64  \n",
            " 4   ALLSKY_SFC_SW_DWN  43872 non-null  float64\n",
            " 5   T2M                43872 non-null  float64\n",
            " 6   RH2M               43872 non-null  float64\n",
            " 7   PRECTOTCORR        43872 non-null  float64\n",
            " 8   PS                 43872 non-null  float64\n",
            " 9   WS10M              43872 non-null  float64\n",
            " 10  WD10M              43872 non-null  float64\n",
            "dtypes: float64(7), int64(4)\n",
            "memory usage: 3.7 MB\n",
            "None\n"
          ]
        }
      ]
    },
    {
      "cell_type": "code",
      "source": [
        "print(df.isnull().sum())"
      ],
      "metadata": {
        "colab": {
          "base_uri": "https://localhost:8080/"
        },
        "id": "3nYOoqDRGE1L",
        "outputId": "b8898769-7b6d-4711-cb7c-f2c59042b9fb"
      },
      "execution_count": 7,
      "outputs": [
        {
          "output_type": "stream",
          "name": "stdout",
          "text": [
            "YEAR                 0\n",
            "MO                   0\n",
            "DY                   0\n",
            "HR                   0\n",
            "ALLSKY_SFC_SW_DWN    0\n",
            "T2M                  0\n",
            "RH2M                 0\n",
            "PRECTOTCORR          0\n",
            "PS                   0\n",
            "WS10M                0\n",
            "WD10M                0\n",
            "dtype: int64\n"
          ]
        }
      ]
    },
    {
      "cell_type": "code",
      "source": [
        "print(df.describe())"
      ],
      "metadata": {
        "colab": {
          "base_uri": "https://localhost:8080/"
        },
        "id": "llZzMxvOGP9h",
        "outputId": "492bf3d8-6c5b-48c7-fa45-c34c1111961c"
      },
      "execution_count": 8,
      "outputs": [
        {
          "output_type": "stream",
          "name": "stdout",
          "text": [
            "               YEAR            MO            DY            HR  \\\n",
            "count  43872.000000  43872.000000  43872.000000  43872.000000   \n",
            "mean    2022.001641      6.518053     15.727024     11.500000   \n",
            "std        1.416355      3.450724      8.806826      6.922265   \n",
            "min     2020.000000      1.000000      1.000000      0.000000   \n",
            "25%     2021.000000      4.000000      8.000000      5.750000   \n",
            "50%     2022.000000      7.000000     16.000000     11.500000   \n",
            "75%     2023.000000     10.000000     23.000000     17.250000   \n",
            "max     2025.000000     12.000000     31.000000     23.000000   \n",
            "\n",
            "       ALLSKY_SFC_SW_DWN           T2M          RH2M   PRECTOTCORR  \\\n",
            "count       43872.000000  43872.000000  43872.000000  43872.000000   \n",
            "mean          195.885959     19.045799     78.475345      4.808085   \n",
            "std           260.551693      3.483269     15.266261      9.519440   \n",
            "min             0.000000      9.610000     28.970000      0.000000   \n",
            "25%             0.000000     16.240000     65.170000      0.100000   \n",
            "50%             2.475000     18.330000     83.920000      1.270000   \n",
            "75%           407.150000     22.000000     91.170000      5.370000   \n",
            "max          1028.000000     29.360000    100.000000    287.650000   \n",
            "\n",
            "                 PS        WS10M         WD10M  \n",
            "count  43872.000000  43872.00000  43872.000000  \n",
            "mean      82.335500      1.77816    130.557045  \n",
            "std        0.144781      0.96891     80.931700  \n",
            "min       81.750000      0.01000      0.000000  \n",
            "25%       82.240000      1.11000     85.500000  \n",
            "50%       82.340000      1.61000    112.300000  \n",
            "75%       82.440000      2.23000    145.000000  \n",
            "max       82.770000      8.22000    359.800000  \n"
          ]
        }
      ]
    },
    {
      "cell_type": "code",
      "source": [
        "# Crear nuevo dataframe sin columnas identificadoras\n",
        "cols_a_evaluar = [col for col in df.columns if col not in ['YEAR','MO','DY','HR']]\n",
        "\n",
        "df_eda = df[cols_a_evaluar]\n",
        "\n",
        "print(df_eda)"
      ],
      "metadata": {
        "colab": {
          "base_uri": "https://localhost:8080/"
        },
        "id": "IH-b_CaIGqhW",
        "outputId": "1ee9c8cc-8c02-4cb7-9f18-f335d7e0acb7"
      },
      "execution_count": 9,
      "outputs": [
        {
          "output_type": "stream",
          "name": "stdout",
          "text": [
            "       ALLSKY_SFC_SW_DWN    T2M   RH2M  PRECTOTCORR     PS  WS10M  WD10M\n",
            "0                    0.0  16.11  97.02         2.12  82.31   1.43   35.9\n",
            "1                    0.0  16.04  96.61         2.13  82.26   1.29   25.8\n",
            "2                    0.0  15.88  96.98         2.16  82.22   1.27   17.9\n",
            "3                    0.0  15.62  97.36         1.86  82.22   1.36   21.1\n",
            "4                    0.0  15.40  97.65         1.27  82.24   1.45   31.2\n",
            "...                  ...    ...    ...          ...    ...    ...    ...\n",
            "43867                0.0  17.33  87.88         4.76  82.31   0.91   22.0\n",
            "43868                0.0  16.77  89.14         3.94  82.37   1.10   47.6\n",
            "43869                0.0  16.34  89.32         4.12  82.39   1.15   61.0\n",
            "43870                0.0  16.28  87.29         6.85  82.41   1.05   64.7\n",
            "43871                0.0  16.15  87.59         7.40  82.41   1.00   63.9\n",
            "\n",
            "[43872 rows x 7 columns]\n"
          ]
        }
      ]
    },
    {
      "cell_type": "markdown",
      "source": [
        "**3. Limpiar nulos y duplicados**"
      ],
      "metadata": {
        "id": "K32ewFgeG95D"
      }
    },
    {
      "cell_type": "code",
      "source": [
        "# En caso de tener valores nulos (null)\n",
        "\n",
        "# imputer = SimpleImputer(strategy='mean')\n",
        "# df['NOMBRE_COLUMNA_CON_NULOS'] = imputer.fit_transform(df[['NOMBRE_COLUMNA_CON_NULOS']])"
      ],
      "metadata": {
        "id": "lS2WFXwhHPxy"
      },
      "execution_count": null,
      "outputs": []
    },
    {
      "cell_type": "code",
      "source": [
        "# Eliminar duplicados\n",
        "\n",
        "df = df.drop_duplicates()\n",
        ""
      ],
      "metadata": {
        "id": "_L48NXkIHhIu"
      },
      "execution_count": 10,
      "outputs": []
    },
    {
      "cell_type": "code",
      "source": [
        "print(df)"
      ],
      "metadata": {
        "colab": {
          "base_uri": "https://localhost:8080/"
        },
        "id": "x7MEEHgtHp4W",
        "outputId": "6870529a-4e0a-43e4-839e-fc88f9d718ef"
      },
      "execution_count": 11,
      "outputs": [
        {
          "output_type": "stream",
          "name": "stdout",
          "text": [
            "       YEAR  MO  DY  HR  ALLSKY_SFC_SW_DWN    T2M   RH2M  PRECTOTCORR     PS  \\\n",
            "0      2020   1   1   0                0.0  16.11  97.02         2.12  82.31   \n",
            "1      2020   1   1   1                0.0  16.04  96.61         2.13  82.26   \n",
            "2      2020   1   1   2                0.0  15.88  96.98         2.16  82.22   \n",
            "3      2020   1   1   3                0.0  15.62  97.36         1.86  82.22   \n",
            "4      2020   1   1   4                0.0  15.40  97.65         1.27  82.24   \n",
            "...     ...  ..  ..  ..                ...    ...    ...          ...    ...   \n",
            "43867  2025   1   1  19                0.0  17.33  87.88         4.76  82.31   \n",
            "43868  2025   1   1  20                0.0  16.77  89.14         3.94  82.37   \n",
            "43869  2025   1   1  21                0.0  16.34  89.32         4.12  82.39   \n",
            "43870  2025   1   1  22                0.0  16.28  87.29         6.85  82.41   \n",
            "43871  2025   1   1  23                0.0  16.15  87.59         7.40  82.41   \n",
            "\n",
            "       WS10M  WD10M  \n",
            "0       1.43   35.9  \n",
            "1       1.29   25.8  \n",
            "2       1.27   17.9  \n",
            "3       1.36   21.1  \n",
            "4       1.45   31.2  \n",
            "...      ...    ...  \n",
            "43867   0.91   22.0  \n",
            "43868   1.10   47.6  \n",
            "43869   1.15   61.0  \n",
            "43870   1.05   64.7  \n",
            "43871   1.00   63.9  \n",
            "\n",
            "[43872 rows x 11 columns]\n"
          ]
        }
      ]
    },
    {
      "cell_type": "markdown",
      "source": [
        "**4. Tratar Atipicos**"
      ],
      "metadata": {
        "id": "4P0Nw38rHwp3"
      }
    },
    {
      "cell_type": "code",
      "source": [
        "df_filtrado = df.copy()\n",
        "\n",
        "filas_iniciales = df.shape[0]\n",
        "filas_eliminadas_total = 0\n",
        "\n",
        "for col in cols_a_evaluar:\n",
        "    Q1 = df_filtrado[col].quantile(0.25)\n",
        "    Q3 = df_filtrado[col].quantile(0.75)\n",
        "    IQR = Q3 - Q1\n",
        "\n",
        "    limite_inferior = Q1 - 1.5 * IQR\n",
        "    limite_superior = Q3 + 1.5 * IQR\n",
        "\n",
        "    # Contar cuántos outliers hay en esta columna antes de filtrar\n",
        "    outliers_col = df_filtrado[\n",
        "        (df_filtrado[col] < limite_inferior) | (df_filtrado[col] > limite_superior)\n",
        "    ].shape[0]\n",
        "\n",
        "    print(f\"Columna {col}: {outliers_col} outliers detectados\")\n",
        "\n",
        "    # Filtrar filas\n",
        "    df_filtrado = df_filtrado[\n",
        "        (df_filtrado[col] >= limite_inferior) & (df_filtrado[col] <= limite_superior)\n",
        "    ]\n",
        "\n",
        "# Mostrar resumen\n",
        "print(\"\\nResumen general:\")\n",
        "print(\"Filas originales:\", filas_iniciales)\n",
        "print(\"Filas finales sin outliers:\", df_filtrado.shape[0])\n",
        "print(\"Total filas eliminadas:\", filas_iniciales - df_filtrado.shape[0])\n",
        "\n",
        "porcentaje = (filas_iniciales - df_filtrado.shape[0])*100/filas_iniciales\n",
        "print(f\"Porcentaje filas eliminadas: {porcentaje:.2f}%\")"
      ],
      "metadata": {
        "colab": {
          "base_uri": "https://localhost:8080/"
        },
        "id": "1Z_ufmIXH0mo",
        "outputId": "f02614fd-ac4b-4779-98a8-f58cf125fe86"
      },
      "execution_count": 12,
      "outputs": [
        {
          "output_type": "stream",
          "name": "stdout",
          "text": [
            "Columna ALLSKY_SFC_SW_DWN: 1 outliers detectados\n",
            "Columna T2M: 0 outliers detectados\n",
            "Columna RH2M: 0 outliers detectados\n",
            "Columna PRECTOTCORR: 4513 outliers detectados\n",
            "Columna PS: 110 outliers detectados\n",
            "Columna WS10M: 1457 outliers detectados\n",
            "Columna WD10M: 4899 outliers detectados\n",
            "\n",
            "Resumen general:\n",
            "Filas originales: 43872\n",
            "Filas finales sin outliers: 32892\n",
            "Total filas eliminadas: 10980\n",
            "Porcentaje filas eliminadas: 25.03%\n"
          ]
        }
      ]
    },
    {
      "cell_type": "markdown",
      "source": [
        "**5. Escalar y Codificar**"
      ],
      "metadata": {
        "id": "R2t2mws2Ip0f"
      }
    },
    {
      "cell_type": "code",
      "source": [
        "# Si tiene variables categóricas\n",
        "\n",
        "#df = pd.get_dummies(df, columns=['sex', 'smoker', 'day', 'time'], drop_first=True)\n",
        "\n",
        "\"\"\"\n",
        "# Copia del DataFrame original\n",
        "df_codificado = df.copy()\n",
        "\n",
        "# Detectar columnas de tipo object o category\n",
        "cols_categoricas = df_codificado.select_dtypes(include=['object', 'category']).columns.tolist()\n",
        "\n",
        "if cols_categoricas:\n",
        "    print(f\"Columnas categóricas encontradas: {cols_categoricas}\")\n",
        "\n",
        "    # Codificación One-Hot Encoding (elimina la primera categoría para evitar colinealidad)\n",
        "    df_codificado = pd.get_dummies(df_codificado, columns=cols_categoricas, drop_first=True)\n",
        "\n",
        "    print(\"Codificación aplicada correctamente.\")\n",
        "else:\n",
        "    print(\"No se encontraron columnas categóricas en el DataFrame.\")\n",
        "\n",
        "print(df_codificado.head())\n",
        "\"\"\""
      ],
      "metadata": {
        "id": "83YrgY_4ItSq"
      },
      "execution_count": null,
      "outputs": []
    },
    {
      "cell_type": "code",
      "source": [
        "# Escalar o normaizar datos\n",
        "\n",
        "df_norm = df.copy()\n",
        "\n",
        "scaler = MinMaxScaler()\n",
        "\n",
        "for col in cols_a_evaluar:\n",
        "    df_norm[col] = scaler.fit_transform(df_norm[[col]])\n",
        "\n",
        "print(df_norm.head())"
      ],
      "metadata": {
        "colab": {
          "base_uri": "https://localhost:8080/"
        },
        "id": "5HUU6oZ5I6di",
        "outputId": "b56032b4-4280-468c-b741-f9a6453201e2"
      },
      "execution_count": 13,
      "outputs": [
        {
          "output_type": "stream",
          "name": "stdout",
          "text": [
            "   YEAR  MO  DY  HR  ALLSKY_SFC_SW_DWN       T2M      RH2M  PRECTOTCORR  \\\n",
            "0  2020   1   1   0                0.0  0.329114  0.958046     0.007370   \n",
            "1  2020   1   1   1                0.0  0.325570  0.952274     0.007405   \n",
            "2  2020   1   1   2                0.0  0.317468  0.957483     0.007509   \n",
            "3  2020   1   1   3                0.0  0.304304  0.962833     0.006466   \n",
            "4  2020   1   1   4                0.0  0.293165  0.966915     0.004415   \n",
            "\n",
            "         PS     WS10M     WD10M  \n",
            "0  0.549020  0.172960  0.099778  \n",
            "1  0.500000  0.155907  0.071707  \n",
            "2  0.460784  0.153471  0.049750  \n",
            "3  0.460784  0.164434  0.058644  \n",
            "4  0.480392  0.175396  0.086715  \n"
          ]
        }
      ]
    },
    {
      "cell_type": "code",
      "source": [
        "print(df_norm.describe())\n",
        "\n",
        ""
      ],
      "metadata": {
        "colab": {
          "base_uri": "https://localhost:8080/"
        },
        "id": "wvxI3QjjJQQB",
        "outputId": "d6ae5da3-a15d-4fa2-a575-9748356b791a"
      },
      "execution_count": 14,
      "outputs": [
        {
          "output_type": "stream",
          "name": "stdout",
          "text": [
            "               YEAR            MO            DY            HR  \\\n",
            "count  43872.000000  43872.000000  43872.000000  43872.000000   \n",
            "mean    2022.001641      6.518053     15.727024     11.500000   \n",
            "std        1.416355      3.450724      8.806826      6.922265   \n",
            "min     2020.000000      1.000000      1.000000      0.000000   \n",
            "25%     2021.000000      4.000000      8.000000      5.750000   \n",
            "50%     2022.000000      7.000000     16.000000     11.500000   \n",
            "75%     2023.000000     10.000000     23.000000     17.250000   \n",
            "max     2025.000000     12.000000     31.000000     23.000000   \n",
            "\n",
            "       ALLSKY_SFC_SW_DWN           T2M          RH2M   PRECTOTCORR  \\\n",
            "count       43872.000000  43872.000000  43872.000000  43872.000000   \n",
            "mean            0.190551      0.477762      0.696964      0.016715   \n",
            "std             0.253455      0.176368      0.214927      0.033094   \n",
            "min             0.000000      0.000000      0.000000      0.000000   \n",
            "25%             0.000000      0.335696      0.509644      0.000348   \n",
            "50%             0.002408      0.441519      0.773617      0.004415   \n",
            "75%             0.396060      0.627342      0.875686      0.018669   \n",
            "max             1.000000      1.000000      1.000000      1.000000   \n",
            "\n",
            "                 PS         WS10M         WD10M  \n",
            "count  43872.000000  43872.000000  43872.000000  \n",
            "mean       0.574020      0.215367      0.362860  \n",
            "std        0.141942      0.118016      0.224935  \n",
            "min        0.000000      0.000000      0.000000  \n",
            "25%        0.480392      0.133983      0.237632  \n",
            "50%        0.578431      0.194884      0.312118  \n",
            "75%        0.676471      0.270402      0.403002  \n",
            "max        1.000000      1.000000      1.000000  \n"
          ]
        }
      ]
    }
  ]
}